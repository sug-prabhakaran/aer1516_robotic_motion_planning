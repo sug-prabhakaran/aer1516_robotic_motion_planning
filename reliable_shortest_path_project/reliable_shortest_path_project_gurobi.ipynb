{
  "nbformat": 4,
  "nbformat_minor": 0,
  "metadata": {
    "colab": {
      "name": "reliable_shortest_path_project-gurobi.ipynb",
      "provenance": [],
      "collapsed_sections": []
    },
    "kernelspec": {
      "name": "python3",
      "display_name": "Python 3"
    },
    "language_info": {
      "name": "python"
    }
  },
  "cells": [
    {
      "cell_type": "markdown",
      "source": [
        "## **Appendix 2 - Spatially-Dependent Reliable Shortest Path Problem - Project**\n",
        "\n",
        "**Course:** AER1516 - Motion Planning for Robotics\n",
        "\n",
        "**Due:** 22 April 2022\n",
        "\n",
        "**Team:** Vishal Kanna Annand, Andrew Constantinescu, Sugumar Prabhakaran"
      ],
      "metadata": {
        "id": "gpqWbauVGFr_"
      }
    },
    {
      "cell_type": "markdown",
      "source": [
        "### **Introduction**\n",
        "\n",
        "This code here is to implent a mixed integer program (MIP) or a mixed integer linear program (MILP) to solve the spatially dependent reliable shortest path problem.  Please see Section 4 of our paper for details on the implementation."
      ],
      "metadata": {
        "id": "P-gTrCv3HA9U"
      }
    },
    {
      "cell_type": "code",
      "execution_count": 1,
      "metadata": {
        "colab": {
          "base_uri": "https://localhost:8080/"
        },
        "id": "CA7lgiIDFidL",
        "outputId": "ebdcecf5-5fce-434a-ad16-f0140846fe2f"
      },
      "outputs": [
        {
          "output_type": "stream",
          "name": "stdout",
          "text": [
            "Collecting gurobipy\n",
            "  Downloading gurobipy-9.5.1-cp37-cp37m-manylinux2014_x86_64.whl (11.5 MB)\n",
            "\u001b[K     |████████████████████████████████| 11.5 MB 3.7 MB/s \n",
            "\u001b[?25hInstalling collected packages: gurobipy\n",
            "Successfully installed gurobipy-9.5.1\n",
            "Restricted license - for non-production use only - expires 2023-10-25\n"
          ]
        }
      ],
      "source": [
        "# import necessary modules\n",
        "import numpy as np \n",
        "import matplotlib.pyplot as plt\n",
        "import networkx as nx\n",
        "from scipy.stats import norm\n",
        "from math import sqrt\n",
        "\n",
        "# install gurobi industrial MIP solver\n",
        "!pip install gurobipy\n",
        "import gurobipy as gp\n",
        "\n",
        "# use academic license\n",
        "# ****INPUT YOUR OWN ACADEMIC LICENSE grbgetkey****"
      ]
    },
    {
      "cell_type": "markdown",
      "source": [
        "### **Mathematical Formulation**\n",
        "\n",
        "* $N$: set of nodes, with $N = \\{1, 2, ..., n\\}$\n",
        "* $A$: set of arcs, with $A = \\{a_{ij},...\\}$\n",
        "* $a_{ij}$: link from node $i$ to node $j$\n",
        "* $T_{ij} = (t_{ij}, \\sigma_{ij})$:  the normal distribution (mean, std deviation) of travel time for link $a_{ij}$\n",
        "* $\n",
        "\n",
        "**Decision Variable**\n",
        "* $x_{ij}$: binary decision variable signifying link-path incidence - i.e. if link is on path = 1\n",
        "\n"
      ],
      "metadata": {
        "id": "ZDAquopBIsQE"
      }
    },
    {
      "cell_type": "code",
      "source": [
        "# PARAMETERS\n",
        "n = 5           # number of nodes\n",
        "r = 1           # start node\n",
        "s = 5           # finish node\n",
        "alpha = 0.5     # user defined risk tolerance threshold\n",
        "z = norm.ppf(alpha)\n",
        "\n",
        "N = [i for i in range(1, n+1)]                      # Set of nodes\n",
        "A = [(1,2), (1,3), (1,4), (2,3), (3,5), (4,5)]      # Set of arcs\n",
        "A_w = [(1,2, 2), (1,3, 3), (1,4, 4), (2,3, 2), (3,5, 4), (4,5, 4)] # incl wts\n",
        "t_ij = {(i,j):k for (i,j,k) in A_w}                 # dict of mean time for arc\n",
        "indexes = {(j,k):i for i, (j,k) in enumerate(A)}\n",
        "\n",
        "cov_matrix = np.array([[ 2.0, 0.0, 0.0, 0.0, 0.0, 0.0],\n",
        "                       [-1.0, 1.0, 0.0, 0.0, 0.0, 0.0],\n",
        "                       [-1.0,-0.5, 1.0, 0.0, 0.0, 0.0],\n",
        "                       [ 2.0,-1.0,-0.3, 2.0, 0.0, 0.0],\n",
        "                       [ 0.3, 1.5,-0.4, 2.0, 6.0, 0.0],\n",
        "                       [-0.2,-0.6, 0.5,-0.4,-1.5, 1.0]])\n",
        "\n",
        "print(N)\n",
        "print(t_ij)\n",
        "print(cov_matrix)\n",
        "print(indexes)"
      ],
      "metadata": {
        "colab": {
          "base_uri": "https://localhost:8080/"
        },
        "id": "nK5lYHLQLObE",
        "outputId": "5ef9b197-cba8-4cbe-94ee-05ca3b1eb231"
      },
      "execution_count": 2,
      "outputs": [
        {
          "output_type": "stream",
          "name": "stdout",
          "text": [
            "[1, 2, 3, 4, 5]\n",
            "{(1, 2): 2, (1, 3): 3, (1, 4): 4, (2, 3): 2, (3, 5): 4, (4, 5): 4}\n",
            "[[ 2.   0.   0.   0.   0.   0. ]\n",
            " [-1.   1.   0.   0.   0.   0. ]\n",
            " [-1.  -0.5  1.   0.   0.   0. ]\n",
            " [ 2.  -1.  -0.3  2.   0.   0. ]\n",
            " [ 0.3  1.5 -0.4  2.   6.   0. ]\n",
            " [-0.2 -0.6  0.5 -0.4 -1.5  1. ]]\n",
            "{(1, 2): 0, (1, 3): 1, (1, 4): 2, (2, 3): 3, (3, 5): 4, (4, 5): 5}\n"
          ]
        }
      ]
    },
    {
      "cell_type": "code",
      "source": [
        "# VISUALIZE DIRECTED GRAPH\n",
        "positions = {1:[1,3], 2:[3,4], 3:[3,3], 4:[3,2], 5:[5,3]}\n",
        "\n",
        "# create graph object and add nodes and edges with weights\n",
        "G = nx.DiGraph()                \n",
        "G.add_nodes_from(N)\n",
        "G.add_weighted_edges_from(A_w)\n",
        "\n",
        "# draw network\n",
        "nx.draw_networkx(G, positions, with_labels=True)\n",
        "nx.draw_networkx_edge_labels(G, pos=positions, edge_labels=t_ij)\n",
        "plt.show()"
      ],
      "metadata": {
        "colab": {
          "base_uri": "https://localhost:8080/",
          "height": 248
        },
        "id": "YZrgZ7SIs0CQ",
        "outputId": "9ac5f771-160a-4f97-ab65-bacd48dbd07f"
      },
      "execution_count": 3,
      "outputs": [
        {
          "output_type": "display_data",
          "data": {
            "text/plain": [
              "<Figure size 432x288 with 1 Axes>"
            ],
            "image/png": "[encoded data removed]"
          },
          "metadata": {}
        }
      ]
    },
    {
      "cell_type": "code",
      "source": [
        "def sigma_path(path, indexes, cov_matrix, k=1):\n",
        "    lam = len(path)\n",
        "    sigma_m = 0     # variance portion\n",
        "    cov_m = 0       # covariance portion\n",
        "\n",
        "    # calculate variance portion\n",
        "    for arc in path:\n",
        "        sigma_m = sigma_m + cov_matrix[indexes[arc],indexes[arc]]\n",
        "\n",
        "    # calculate covariance portion\n",
        "    for n in range(1, k+1):\n",
        "        for m in range(1, lam-n+1):\n",
        "            cov_m = cov_m + 2*cov_matrix[indexes[path[m+n-1]], indexes[path[m-1]]]\n",
        "\n",
        "    return sqrt(sigma_m + cov_m)\n",
        "\n",
        "def t_path(path, indexes, t_ij):\n",
        "    t = 0           # initialize mean\n",
        "\n",
        "    # sum mean for all arcs in path\n",
        "    for arc in path:\n",
        "        t = t + t_ij[arc]\n",
        "\n",
        "    return t\n",
        "\n",
        "def inv_cdf(t_path, sigma_path, alpha):\n",
        "    z = norm.ppf(alpha)\n",
        "    return t_path + z*sigma_path\n"
      ],
      "metadata": {
        "id": "XffDHOuKyHTu"
      },
      "execution_count": 4,
      "outputs": []
    },
    {
      "cell_type": "code",
      "source": [
        "def idx(arc):\n",
        "    return indexes[arc]"
      ],
      "metadata": {
        "id": "2Isho53_fdtZ"
      },
      "execution_count": 5,
      "outputs": []
    },
    {
      "cell_type": "code",
      "source": [
        "# INITIALIZE GUROBI MIP MODEL\n",
        "model = gp.Model(\"reliable_shortest_path\")\n",
        "model.setParam('TimeLimit', 60) # seconds"
      ],
      "metadata": {
        "colab": {
          "base_uri": "https://localhost:8080/"
        },
        "id": "wlSm5VipF_mE",
        "outputId": "5006b6ad-7609-4775-ec32-83ad4b86cd65"
      },
      "execution_count": 7,
      "outputs": [
        {
          "output_type": "stream",
          "name": "stdout",
          "text": [
            "Set parameter TimeLimit to value 60\n"
          ]
        }
      ]
    },
    {
      "cell_type": "code",
      "source": [
        "# DECISION VARIABLES\n",
        "\n",
        "# equation (8) - link-path decision variable is binary\n",
        "x = model.addVars(A, vtype=gp.GRB.BINARY)\n",
        "sqrt_covar = model.addVar(name='sqrt_covar')\n",
        "x2 = {}\n",
        "\n",
        "covar_arcs = [(a,b) for a in A for b in A if a != b]\n",
        "covar_arcs_dict = {(a,b):i for i, (a,b) in enumerate(covar_arcs)}\n",
        "print(covar_arcs_dict)\n",
        "for i in range(len(covar_arcs_dict)):\n",
        "        x2[i] = model.addVar(vtype=gp.GRB.BINARY)\n",
        "print(x)\n",
        "print(x2)"
      ],
      "metadata": {
        "colab": {
          "base_uri": "https://localhost:8080/"
        },
        "id": "gcp45QrOWyKf",
        "outputId": "790a6a62-c653-459c-eb55-9fb75e3ab3ed"
      },
      "execution_count": 31,
      "outputs": [
        {
          "output_type": "stream",
          "name": "stdout",
          "text": [
            "{((1, 2), (1, 3)): 0, ((1, 2), (1, 4)): 1, ((1, 2), (2, 3)): 2, ((1, 2), (3, 5)): 3, ((1, 2), (4, 5)): 4, ((1, 3), (1, 2)): 5, ((1, 3), (1, 4)): 6, ((1, 3), (2, 3)): 7, ((1, 3), (3, 5)): 8, ((1, 3), (4, 5)): 9, ((1, 4), (1, 2)): 10, ((1, 4), (1, 3)): 11, ((1, 4), (2, 3)): 12, ((1, 4), (3, 5)): 13, ((1, 4), (4, 5)): 14, ((2, 3), (1, 2)): 15, ((2, 3), (1, 3)): 16, ((2, 3), (1, 4)): 17, ((2, 3), (3, 5)): 18, ((2, 3), (4, 5)): 19, ((3, 5), (1, 2)): 20, ((3, 5), (1, 3)): 21, ((3, 5), (1, 4)): 22, ((3, 5), (2, 3)): 23, ((3, 5), (4, 5)): 24, ((4, 5), (1, 2)): 25, ((4, 5), (1, 3)): 26, ((4, 5), (1, 4)): 27, ((4, 5), (2, 3)): 28, ((4, 5), (3, 5)): 29}\n",
            "{(1, 2): <gurobi.Var *Awaiting Model Update*>, (1, 3): <gurobi.Var *Awaiting Model Update*>, (1, 4): <gurobi.Var *Awaiting Model Update*>, (2, 3): <gurobi.Var *Awaiting Model Update*>, (3, 5): <gurobi.Var *Awaiting Model Update*>, (4, 5): <gurobi.Var *Awaiting Model Update*>}\n",
            "{0: <gurobi.Var *Awaiting Model Update*>, 1: <gurobi.Var *Awaiting Model Update*>, 2: <gurobi.Var *Awaiting Model Update*>, 3: <gurobi.Var *Awaiting Model Update*>, 4: <gurobi.Var *Awaiting Model Update*>, 5: <gurobi.Var *Awaiting Model Update*>, 6: <gurobi.Var *Awaiting Model Update*>, 7: <gurobi.Var *Awaiting Model Update*>, 8: <gurobi.Var *Awaiting Model Update*>, 9: <gurobi.Var *Awaiting Model Update*>, 10: <gurobi.Var *Awaiting Model Update*>, 11: <gurobi.Var *Awaiting Model Update*>, 12: <gurobi.Var *Awaiting Model Update*>, 13: <gurobi.Var *Awaiting Model Update*>, 14: <gurobi.Var *Awaiting Model Update*>, 15: <gurobi.Var *Awaiting Model Update*>, 16: <gurobi.Var *Awaiting Model Update*>, 17: <gurobi.Var *Awaiting Model Update*>, 18: <gurobi.Var *Awaiting Model Update*>, 19: <gurobi.Var *Awaiting Model Update*>, 20: <gurobi.Var *Awaiting Model Update*>, 21: <gurobi.Var *Awaiting Model Update*>, 22: <gurobi.Var *Awaiting Model Update*>, 23: <gurobi.Var *Awaiting Model Update*>, 24: <gurobi.Var *Awaiting Model Update*>, 25: <gurobi.Var *Awaiting Model Update*>, 26: <gurobi.Var *Awaiting Model Update*>, 27: <gurobi.Var *Awaiting Model Update*>, 28: <gurobi.Var *Awaiting Model Update*>, 29: <gurobi.Var *Awaiting Model Update*>}\n"
          ]
        }
      ]
    },
    {
      "cell_type": "code",
      "source": [
        "for a in A:\n",
        "    for b in A:\n",
        "        if a!=b:\n",
        "            model.addConstr(x2[covar_arcs_dict[(a,b)]]==x[a]*x[b])"
      ],
      "metadata": {
        "id": "hFoWOghLRKDS"
      },
      "execution_count": 36,
      "outputs": []
    },
    {
      "cell_type": "code",
      "source": [
        "# CONSTRAINTS\n",
        "\n",
        "# constraint (7) - ensures reliable shortest path is feasible\n",
        "model.addConstrs(gp.quicksum(x[i,j] for j in G.successors(i))-\n",
        "                 gp.quicksum(x[k,i] for k in G.predecessors(i)) == 1 \n",
        "                 for i in N if i == r)\n",
        "model.addConstrs(gp.quicksum(x[i,j] for j in G.successors(i))-\n",
        "                 gp.quicksum(x[k,i] for k in G.predecessors(i)) == 0 \n",
        "                 for i in N if (i != r and i != s))\n",
        "model.addConstrs(gp.quicksum(x[i,j] for j in G.successors(i))-\n",
        "                 gp.quicksum(x[k,i] for k in G.predecessors(i)) == -1 \n",
        "                 for i in N if i == s)"
      ],
      "metadata": {
        "colab": {
          "base_uri": "https://localhost:8080/"
        },
        "id": "muj2O8RsXKtd",
        "outputId": "b26eaa21-aea8-4dd1-f48f-2e9af439ea36"
      },
      "execution_count": 9,
      "outputs": [
        {
          "output_type": "execute_result",
          "data": {
            "text/plain": [
              "{5: <gurobi.Constr *Awaiting Model Update*>}"
            ]
          },
          "metadata": {},
          "execution_count": 9
        }
      ]
    },
    {
      "cell_type": "code",
      "source": [
        "path_mean = gp.quicksum(t_ij[a]*x[a] for a in A)\n",
        "var = gp.quicksum(cov_matrix[idx(a),idx(a)]*x[a] for a in A)\n",
        "covar = gp.quicksum(cov_matrix[idx(a), idx(b)]*x2[covar_arcs_dict[(a,b)]] \n",
        "                                                  for a in A for b in A if a !=b)\n",
        "path_var = var + 2*covar"
      ],
      "metadata": {
        "id": "m0QFaK99jfxC"
      },
      "execution_count": 39,
      "outputs": []
    },
    {
      "cell_type": "code",
      "source": [
        "model.modelSense = gp.GRB.MINIMIZE\n",
        "\n",
        "model.setObjective(path_mean*path_mean + \n",
        "                   z*z*path_var*path_var + \n",
        "                   path_mean*z*path_var)"
      ],
      "metadata": {
        "id": "-oElJk8ghJN7"
      },
      "execution_count": 40,
      "outputs": []
    },
    {
      "cell_type": "code",
      "source": [
        "model.optimize()"
      ],
      "metadata": {
        "colab": {
          "base_uri": "https://localhost:8080/",
          "height": 261
        },
        "id": "TiuArNmDRKbJ",
        "outputId": "18eb7409-acc3-47f6-af27-18e814f17f2b"
      },
      "execution_count": 42,
      "outputs": [
        {
          "output_type": "stream",
          "name": "stdout",
          "text": [
            "Gurobi Optimizer version 9.5.1 build v9.5.1rc2 (linux64)\n",
            "Thread count: 1 physical cores, 2 logical processors, using up to 2 threads\n"
          ]
        },
        {
          "output_type": "error",
          "ename": "GurobiError",
          "evalue": "ignored",
          "traceback": [
            "\u001b[0;31m---------------------------------------------------------------------------\u001b[0m",
            "\u001b[0;31mGurobiError\u001b[0m                               Traceback (most recent call last)",
            "\u001b[0;32m<ipython-input-42-152a7c8a416d>\u001b[0m in \u001b[0;36m<module>\u001b[0;34m()\u001b[0m\n\u001b[0;32m----> 1\u001b[0;31m \u001b[0mmodel\u001b[0m\u001b[0;34m.\u001b[0m\u001b[0moptimize\u001b[0m\u001b[0;34m(\u001b[0m\u001b[0;34m)\u001b[0m\u001b[0;34m\u001b[0m\u001b[0;34m\u001b[0m\u001b[0m\n\u001b[0m",
            "\u001b[0;32msrc/gurobipy/model.pxi\u001b[0m in \u001b[0;36mgurobipy.Model.optimize\u001b[0;34m()\u001b[0m\n",
            "\u001b[0;31mGurobiError\u001b[0m: Model too large for size-limited license; visit https://www.gurobi.com/free-trial for a full license"
          ]
        }
      ]
    },
    {
      "cell_type": "code",
      "source": [
        "for a in A:\n",
        "    if x[a].x != 0:\n",
        "        print(a)\n",
        "print(sqrt(model.getObjective().getValue()))"
      ],
      "metadata": {
        "id": "HH_rcFPXOkvt"
      },
      "execution_count": null,
      "outputs": []
    }
  ]
}