{
  "nbformat": 4,
  "nbformat_minor": 0,
  "metadata": {
    "colab": {
      "name": "reliable_shortest_path_project-gurobi.ipynb",
      "provenance": [],
      "collapsed_sections": []
    },
    "kernelspec": {
      "name": "python3",
      "display_name": "Python 3"
    },
    "language_info": {
      "name": "python"
    }
  },
  "cells": [
    {
      "cell_type": "markdown",
      "source": [
        "## **Appendix B - Reliable Shortest Path using Mixed-Integer Programming**\n",
        "\n",
        "**Course:** AER1516 - Motion Planning for Robotics\n",
        "\n",
        "**Due:** 22 April 2022\n",
        "\n",
        "**Team:** Vishal Kanna Annand, Andrew Constantinescu, Sugumar Prabhakaran"
      ],
      "metadata": {
        "id": "gpqWbauVGFr_"
      }
    },
    {
      "cell_type": "markdown",
      "source": [
        "### **Introduction**\n",
        "\n",
        "This code here is to implent a mixed integer program (MIP) or a mixed integer linear program (MILP) to solve the spatially dependent reliable shortest path problem.  Please see Section 4 of our paper for details on the implementation."
      ],
      "metadata": {
        "id": "P-gTrCv3HA9U"
      }
    },
    {
      "cell_type": "code",
      "execution_count": 1,
      "metadata": {
        "colab": {
          "base_uri": "https://localhost:8080/"
        },
        "id": "CA7lgiIDFidL",
        "outputId": "9d72c11c-f9af-425e-c171-c9dbceef75fb"
      },
      "outputs": [
        {
          "output_type": "stream",
          "name": "stdout",
          "text": [
            "Requirement already satisfied: gurobipy in /usr/local/lib/python3.7/dist-packages (9.5.1)\n"
          ]
        }
      ],
      "source": [
        "# import necessary modules\n",
        "import numpy as np \n",
        "import matplotlib.pyplot as plt\n",
        "import networkx as nx\n",
        "from scipy.stats import norm\n",
        "from math import sqrt\n",
        "\n",
        "# install gurobi industrial MIP solver\n",
        "!pip install gurobipy\n",
        "import gurobipy as gp"
      ]
    },
    {
      "cell_type": "code",
      "source": [
        "# ****INPUT YOUR OWN ACADEMIC LICENSE grbgetkey****\n",
        "\n",
        "# Create environment with WLS license\n",
        "e = gp.Env(empty=True)\n",
        "# e.setParam('WLSACCESSID', 'XXXXXXXX-XXXX-XXXX-XXXX-XXXXXXXXXXXXX')\n",
        "# e.setParam('WLSSECRET', 'XXXXXXXX-XXXX-XXXX-XXXX-XXXXXXXXXXXXX')\n",
        "# e.setParam('LICENSEID', XXXXXX)\n",
        "\n",
        "e.start()\n",
        "\n",
        "# Create the model within the Gurobi environment\n",
        "model = gp.Model(env=e)"
      ],
      "metadata": {
        "colab": {
          "base_uri": "https://localhost:8080/"
        },
        "id": "vJznJSATWqHz",
        "outputId": "f1052bc1-dd5e-45c1-b3c4-f0b85b1659c4"
      },
      "execution_count": 2,
      "outputs": [
        {
          "output_type": "stream",
          "name": "stdout",
          "text": [
            "Set parameter WLSAccessID\n",
            "Set parameter WLSSecret\n",
            "Set parameter LicenseID\n",
            "Academic license - for non-commercial use only - registered to s.prabhakaran@mail.utoronto.ca\n"
          ]
        }
      ]
    },
    {
      "cell_type": "markdown",
      "source": [
        "### **Mathematical Formulation**\n",
        "\n",
        "**User Defined Parameters**\n",
        "* $N$: set of nodes, with $N = \\{1, 2, ..., n\\}$\n",
        "* $A$: set of arcs, with $A = \\{a_{ij},...\\}$, where $a_{ij}$: link from node $i$ to node $j$\n",
        "* $T_{ij} = (t_{ij}, \\sigma_{ij})$:  the normal distribution (mean, std deviation) of travel time for link $a_{ij}$\n",
        "* $r, s$: start and end nodes respectively \n",
        "* $\\alpha$: User defined confidence level ($\\alpha> 0.5$: risk-averse, $\\alpha=0.5$: risk-neutral, $\\alpha < 0.5$: risk-seeking)\n",
        "\n",
        "**Decision Variables**\n",
        "* $x_{ij} \\in \\{0,1\\}$: binary decision variable signifying link-path incidence - i.e. if link is on path = 1\n",
        "* $y_{ab}$: binary decision variable that means link $a \\in A$ connects to link $b \\in A$\n",
        "\n",
        "**Objective Function**\n",
        "* $\\Phi^{-1}(\\alpha) = \\sum_{a_{ij} \\in A}t_{ij}\\cdot x_{ij} + z_{\\alpha}\\cdot \\sqrt \\{\\sum_{a_{ij} \\in A}(\\sigma_a)^2 \\cdot x_{ij} + 2\\cdot \\sum_{a_{ij} \\in A}\\sum_{b_{ij} \\in A}(\\sigma_{ab}\\cdot y_{ab})\\}$, where:\n",
        "* $\\Phi^{-1}(\\alpha)$: is the inverse cumulative density function (cdf) of the overall path travel time that we want to minimize as a function of $\\alpha$\n",
        "* $z_{\\alpha}$: Is the inverse cdf of a standard normal distribution at a $\\alpha$ confidence level\n",
        "* $(\\sigma_a)^2$: variance of link $a_{ij}$\n",
        "* $\\sigma_{ab} = $: covariance between link $a_{ij}$ and link $b_{ij}$\n"
      ],
      "metadata": {
        "id": "ZDAquopBIsQE"
      }
    },
    {
      "cell_type": "code",
      "source": [
        "# USER DEFINED PARAMETERS\n",
        "scenario = 2\n",
        "\n",
        "if scenario == 1:\n",
        "    n = 5               # number of nodes\n",
        "    r = 1               # start node\n",
        "    s = 5               # finish node\n",
        "    alpha = 0.1         # user defined risk tolerance threshold\n",
        "\n",
        "    N = [i for i in range(1, n+1)]                      # Set of nodes\n",
        "    A = [(1,2), (1,3), (1,4), (2,3), (3,5), (4,5)]      # Set of arcs\n",
        "    A_w = [(1,2, 2), (1,3, 3), (1,4, 4), (2,3, 2), (3,5, 4), (4,5, 4)] # incl wts\n",
        "    t_ij = {(i,j):k for (i,j,k) in A_w}                 # dict of mean time for arc\n",
        "    idx = {(j,k):i for i, (j,k) in enumerate(A)}    # index needed for dict later\n",
        "\n",
        "    cov_matrix = np.array([[ 2.0, 0.0, 0.0, 0.0, 0.0, 0.0],\n",
        "                        [-1.0, 1.0, 0.0, 0.0, 0.0, 0.0],\n",
        "                        [-1.0,-0.5, 1.0, 0.0, 0.0, 0.0],\n",
        "                        [ 2.0,-1.0,-0.3, 2.0, 0.0, 0.0],\n",
        "                        [ 0.3, 1.5,-0.4, 2.0, 6.0, 0.0],\n",
        "                        [-0.2,-0.6, 0.5,-0.4,-1.5, 1.0]])\n",
        "    \n",
        "    positions = {1:[1,3], 2:[3,4], 3:[3,3], 4:[3,2], 5:[5,3]} #for visualization\n",
        "                   \n",
        "elif scenario == 2:\n",
        "    n = 14              # number of nodes\n",
        "    r = 1               # start node\n",
        "    s = 14              # finish node\n",
        "    alpha = 0.374       # user defined risk tolerance threshold\n",
        "    z = norm.ppf(alpha) # calculate inv. cdf of std normal distr at alpha confidence\n",
        "\n",
        "    N = [i for i in range(1, n+1)]                              # Set of nodes\n",
        "    A = [(1, 2), (1, 3), (1, 4), (2, 5), (2, 6), (3, 5), (3, 6),# Set of arcs\n",
        "         (3, 7), (4, 6), (4, 7), (5, 8), (6, 9), (7, 9), (8, 10), \n",
        "         (9, 11), (11, 10), (10, 12), (10, 13), (11, 13), (12, 14), (13, 14)]   \n",
        "    A_w = [(1, 2, 3), (1, 3, 1), (1, 4, 1), (2, 5, 2), (2, 6, 3), # incl wts\n",
        "           (3, 5, 2),(3, 6, 7), (3, 7, 1), (4, 6, 7), (4, 7, 3), (5, 8, 5), \n",
        "           (6, 9, 1), (7, 9, 6), (8, 10, 4), (9, 11, 2), (11, 10, 2),\n",
        "           (10, 12, 1), (10, 13, 2), (11, 13, 1),(12, 14, 1), (13, 14, 4)] \n",
        "    t_ij = {(i,j):k for (i,j,k) in A_w}                 # dict of mean time for arc\n",
        "    idx = {(j,k):i for i, (j,k) in enumerate(A)}    # index needed for dict later\n",
        "\n",
        "    cov_matrix = np.array([[  2,   0,   0,   0,   0,   0,   0,   0,   0,   0,   0,   0,    0,   0,   0,   0,   0,   0,   0,   0,   0],\n",
        "                           [  1, 0.1,   0,   0,   0,   0,   0,   0,   0,   0,   0,   0,    0,   0,   0,   0,   0,   0,   0,   0,   0],\n",
        "                           [  1,   2,   6,   0,   0,   0,   0,   0,   0,   0,   0,   0,    0,   0,   0,   0,   0,   0,   0,   0,   0],\n",
        "                           [  0,   0,   0, 0.5,   0,   0,   0,   0,   0,   0,   0,   0,    0,   0,   0,   0,   0,   0,   0,   0,   0],\n",
        "                           [  0,   0,   0,   0,   2,   0,   0,   0,   0,   0,   0,   0,    0,   0,   0,   0,   0,   0,   0,   0,   0],\n",
        "                           [  0,   0,   0,   0,   0, 0.2,   0,   0,   0,   0,   0,   0,    0,   0,   0,   0,   0,   0,   0,   0,   0],\n",
        "                           [  0,   0,   0,   0,   0,   0,   1,   0,   0,   0,   0,   0,    0,   0,   0,   0,   0,   0,   0,   0,   0],\n",
        "                           [  0,   0,   0,   0,   0,   0,   0, 0.1,   0,   0,   0,   0,    0,   0,   0,   0,   0,   0,   0,   0,   0],\n",
        "                           [  2,   2,   2,   2,   2,   2,   2,   2,   9,   0,   0,   0,    0,   0,   0,   0,   0,   0,   0,   0,   0],\n",
        "                           [  0,   0,   0,   0,   0,   0,   0,   0,   0,   1,   0,   0,    0,   0,   0,   0,   0,   0,   0,   0,   0],\n",
        "                           [  9,   9,   9,   9,   9,   9,   9,   9,   9,   9,   2,   0,    0,   0,   0,   0,   0,   0,   0,   0,   0],\n",
        "                           [  0,   0,   0,   0,   0,   0,   0,   0,   0,   0,   0,   3,    0,   0,   0,   0,   0,   0,   0,   0,   0],\n",
        "                           [  0,   0,   0,   0,   0,   0,   0,   0,   0,   0,   0,   0,  0.7,   0,   0,   0,   0,   0,   0,   0,   0],\n",
        "                           [  0,   0,   0,   0,   0,   0,   0,   0,   0,   0,   0,   0,    0,   1,   0,   0,   0,   0,   0,   0,   0],\n",
        "                           [  0,   0,   0,   0,   0,   0,   0,   0,   0,   0,   0,   0,    0,   0,   2,   0,   0,   0,   0,   0,   0],\n",
        "                           [  0,   0,   0,   0,   0,   0,   0,   0,   0,   0,   0,   0,    0,   0,   0,   1,   0,   0,   0,   0,   0],\n",
        "                           [  0,   0,   0,   0,   0,   0,   0,   0,   0,   0,   0,   0,    0,   0,   0,   0,   1,   0,   0,   0,   0],\n",
        "                           [  0,   0,   0,   0,   0,   0,   0,   0,   0,   0,   0,   0,    0,   0,   0,   0,   0, 0.5,   0,   0,   0],\n",
        "                           [  0,   0,   0,   0,   0,   0,   0,   0,   0,   0,   0,   0,    0,   0,   0,   0,   0,   0, 0.2,   0,   0],\n",
        "                           [  0,   0,   0,   0,   0,   0,   0,   0,   0,   0,   0,   0,    0,   0,   0,   0,   0,   0,   0,   1,   0],\n",
        "                           [  0,   0,   0,   0,   0,   0,   0,   0,   0,   0,   0,   0,    0,   0,   0,   0,   0,   0,   0,   0, 0.1]])\n",
        "\n",
        "    positions = {1:[1,3], 2:[3,4], 3:[3,3], 4:[3,2],    # for visualization\n",
        "                 5:[5,4], 6:[5,3], 7:[5,2], 8:[7,3.5], 9:[7,2.5], \n",
        "                 10:[10, 3.5], 11:[8.5,2.5], 12:[12, 3.5], 13:[12,2.5],\n",
        "                 14:[14, 3]}   \n",
        "\n",
        "z = norm.ppf(alpha) # calculate inv. cdf of std normal distr at alpha confidence\n"
      ],
      "metadata": {
        "id": "nK5lYHLQLObE",
        "colab": {
          "base_uri": "https://localhost:8080/"
        },
        "outputId": "b4e66073-6fe9-4568-a2ef-4cd1b8a8c609"
      },
      "execution_count": 13,
      "outputs": [
        {
          "output_type": "stream",
          "name": "stdout",
          "text": [
            "{(1, 2): 3, (1, 3): 1, (1, 4): 1, (2, 5): 2, (2, 6): 3, (3, 5): 2, (3, 6): 7, (3, 7): 1, (4, 6): 7, (4, 7): 3, (5, 8): 5, (6, 9): 1, (7, 9): 6, (8, 10): 4, (9, 11): 2, (11, 10): 2, (10, 12): 1, (10, 13): 2, (11, 13): 1, (12, 14): 1, (13, 14): 4}\n"
          ]
        }
      ]
    },
    {
      "cell_type": "code",
      "source": [
        "# VISUALIZE DIRECTED GRAPH\n",
        "\n",
        "# create graph object and add nodes and edges with weights\n",
        "plt.figure(figsize=(12,4))\n",
        "G = nx.DiGraph()                \n",
        "G.add_nodes_from(N)\n",
        "G.add_weighted_edges_from(A_w)\n",
        "\n",
        "# draw network\n",
        "nx.draw_networkx(G, positions, with_labels=True)\n",
        "nx.draw_networkx_edge_labels(G, pos=positions, edge_labels=t_ij)\n",
        "plt.show()"
      ],
      "metadata": {
        "colab": {
          "base_uri": "https://localhost:8080/",
          "height": 248
        },
        "id": "YZrgZ7SIs0CQ",
        "outputId": "016cef33-3bc6-4613-b3be-cdb8d1720743"
      },
      "execution_count": 14,
      "outputs": [
        {
          "output_type": "display_data",
          "data": {
            "text/plain": [
              "<Figure size 864x288 with 1 Axes>"
            ],
            "image/png": "[encoded data removed]"
          },
          "metadata": {}
        }
      ]
    },
    {
      "cell_type": "code",
      "source": [
        "# INITIALIZE GUROBI MIP MODEL\n",
        "model = gp.Model(\"reliable_shortest_path\")\n",
        "model.setParam('TimeLimit', 60) # seconds"
      ],
      "metadata": {
        "colab": {
          "base_uri": "https://localhost:8080/"
        },
        "id": "wlSm5VipF_mE",
        "outputId": "6ef45c7a-ad9f-4dd7-94f3-527770806006"
      },
      "execution_count": 15,
      "outputs": [
        {
          "output_type": "stream",
          "name": "stdout",
          "text": [
            "Set parameter TimeLimit to value 60\n"
          ]
        }
      ]
    },
    {
      "cell_type": "code",
      "source": [
        "# DECISION VARIABLES\n",
        "\n",
        "x = model.addVars(A, vtype=gp.GRB.BINARY)   # link-path incidence\n",
        "y = {}          # variable to store if link a connects to link b\n",
        "\n",
        "# find all pair-combinations of links in set A and store index in dict\n",
        "covar_arcs = [(a,b) for a in A for b in A if a != b]\n",
        "covar_arcs_dict = {(a,b):i for i, (a,b) in enumerate(covar_arcs)}\n",
        "\n",
        "# create a variable y[i] for each link-pair to store if they connect\n",
        "for i in range(len(covar_arcs_dict)):\n",
        "        y[i] = model.addVar(vtype=gp.GRB.BINARY)\n",
        "\n",
        "# additional variables to linearize objective function\n",
        "var = model.addVar(name='var')\n",
        "covar = model.addVar(name='covar')\n",
        "path_var = model.addVar(name='path_var')\n",
        "path_std = model.addVar(name='path_std')"
      ],
      "metadata": {
        "id": "gcp45QrOWyKf"
      },
      "execution_count": 16,
      "outputs": []
    },
    {
      "cell_type": "code",
      "source": [
        "# CONSTRAINTS\n",
        "\n",
        "# constraint (7) - ensures reliable shortest path is feasible\n",
        "model.addConstrs(gp.quicksum(x[i,j] for j in G.successors(i))-\n",
        "                 gp.quicksum(x[k,i] for k in G.predecessors(i)) == 1 \n",
        "                 for i in N if i == r)\n",
        "model.addConstrs(gp.quicksum(x[i,j] for j in G.successors(i))-\n",
        "                 gp.quicksum(x[k,i] for k in G.predecessors(i)) == 0 \n",
        "                 for i in N if (i != r and i != s))\n",
        "model.addConstrs(gp.quicksum(x[i,j] for j in G.successors(i))-\n",
        "                 gp.quicksum(x[k,i] for k in G.predecessors(i)) == -1 \n",
        "                 for i in N if i == s)\n",
        "\n",
        "# constraint to calculate y[i] based on if there is a path from a to b\n",
        "for a in A:\n",
        "    for b in A:\n",
        "        if a!=b:\n",
        "            model.addConstr(y[covar_arcs_dict[(a,b)]]==x[a]*x[b])"
      ],
      "metadata": {
        "id": "muj2O8RsXKtd"
      },
      "execution_count": 17,
      "outputs": []
    },
    {
      "cell_type": "code",
      "source": [
        "# OBJECTIVE FUNCTION\n",
        "\n",
        "# objective function:  path mean + z*sqrt(var + covar)\n",
        "path_mean = gp.quicksum(t_ij[a]*x[a] for a in A)\n",
        "var = gp.quicksum(cov_matrix[idx[a],idx[a]]*x[a] for a in A)\n",
        "covar = gp.quicksum(cov_matrix[idx[a], idx[b]]*y[covar_arcs_dict[(a,b)]] \n",
        "                                                  for a in A for b in A if a !=b)\n",
        "\n",
        "#linearize sqrt in objective function\n",
        "model.addConstr(path_var == var + 2*covar)\n",
        "model.addGenConstrPow(path_var, path_std, 0.5)\n",
        "\n",
        "model.modelSense = gp.GRB.MINIMIZE          # minimization\n",
        "model.setObjective(path_mean+z*path_std)    # objective function\n",
        "model.optimize()                            # execute"
      ],
      "metadata": {
        "id": "-oElJk8ghJN7",
        "colab": {
          "base_uri": "https://localhost:8080/"
        },
        "outputId": "90f2e736-63b6-4f3a-cbe3-0743afa6e480"
      },
      "execution_count": 18,
      "outputs": [
        {
          "output_type": "stream",
          "name": "stdout",
          "text": [
            "Gurobi Optimizer version 9.5.1 build v9.5.1rc2 (linux64)\n",
            "Thread count: 1 physical cores, 2 logical processors, using up to 2 threads\n",
            "Academic license - for non-commercial use only - registered to s.prabhakaran@mail.utoronto.ca\n",
            "Optimize a model with 15 rows, 445 columns and 85 nonzeros\n",
            "Model fingerprint: 0x0114f9d4\n",
            "Model has 420 quadratic constraints\n",
            "Model has 1 general constraint\n",
            "Variable types: 4 continuous, 441 integer (441 binary)\n",
            "Coefficient statistics:\n",
            "  Matrix range     [1e-01, 2e+01]\n",
            "  QMatrix range    [1e+00, 1e+00]\n",
            "  QLMatrix range   [1e+00, 1e+00]\n",
            "  Objective range  [3e-01, 7e+00]\n",
            "  Bounds range     [1e+00, 1e+00]\n",
            "  RHS range        [1e+00, 1e+00]\n",
            "Presolve added 44 rows and 844 columns\n",
            "Presolve time: 0.04s\n",
            "Presolved: 671 rows, 1442 columns, 4862 nonzeros\n",
            "Presolved model has 1 SOS constraint(s)\n",
            "Variable types: 1102 continuous, 340 integer (339 binary)\n",
            "\n",
            "Root relaxation: objective 1.132930e+01, 153 iterations, 0.01 seconds (0.02 work units)\n",
            "\n",
            "    Nodes    |    Current Node    |     Objective Bounds      |     Work\n",
            " Expl Unexpl |  Obj  Depth IntInf | Incumbent    BestBd   Gap | It/Node Time\n",
            "\n",
            "     0     0   11.58173    0   43          -   11.58173      -     -    0s\n",
            "H    0     0                      13.8810290   11.58173  16.6%     -    0s\n",
            "     0     0   11.83436    0   51   13.88103   11.83436  14.7%     -    0s\n",
            "     0     0   11.83436    0   11   13.88103   11.83436  14.7%     -    0s\n",
            "H    0     0                      11.8870668   11.83436  0.44%     -    0s\n",
            "     0     0   11.83437    0   11   11.88707   11.83437  0.44%     -    0s\n",
            "     0     0     cutoff    0        11.88707   11.88707  0.00%     -    0s\n",
            "\n",
            "Cutting planes:\n",
            "  Implied bound: 1\n",
            "  MIR: 4\n",
            "\n",
            "Explored 1 nodes (250 simplex iterations) in 0.34 seconds (0.10 work units)\n",
            "Thread count was 2 (of 2 available processors)\n",
            "\n",
            "Solution count 2: 11.8871 13.881 \n",
            "\n",
            "Optimal solution found (tolerance 1.00e-04)\n",
            "Warning: max constraint violation (1.6268e-05) exceeds tolerance\n",
            "Warning: max general constraint violation (1.6268e-05) exceeds tolerance\n",
            "Best objective 1.188706683662e+01, best bound 1.188706683662e+01, gap 0.0000%\n"
          ]
        }
      ]
    },
    {
      "cell_type": "code",
      "source": [
        "# OUTPUT RESULTS\n",
        "\n",
        "print(\"Most Reliable Path at alpha=:\", alpha)\n",
        "\n",
        "for a in A:\n",
        "    if x[a].x != 0:\n",
        "        print(a)\n",
        "print(\"Objective Function Value:\", model.getObjective().getValue())"
      ],
      "metadata": {
        "colab": {
          "base_uri": "https://localhost:8080/"
        },
        "id": "HH_rcFPXOkvt",
        "outputId": "a8028fb8-4f8b-414b-c544-da1875bc66ef"
      },
      "execution_count": 19,
      "outputs": [
        {
          "output_type": "stream",
          "name": "stdout",
          "text": [
            "Most Reliable Path at alpha=: 0.374\n",
            "(1, 2)\n",
            "(2, 6)\n",
            "(6, 9)\n",
            "(9, 11)\n",
            "(11, 10)\n",
            "(10, 12)\n",
            "(12, 14)\n",
            "Objective Function Value: 11.887066836618601\n"
          ]
        }
      ]
    }
  ]
}