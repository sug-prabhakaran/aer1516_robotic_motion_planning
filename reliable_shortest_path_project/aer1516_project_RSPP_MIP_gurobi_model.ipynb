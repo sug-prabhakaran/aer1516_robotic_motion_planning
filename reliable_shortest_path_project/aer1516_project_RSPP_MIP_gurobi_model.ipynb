{
  "nbformat": 4,
  "nbformat_minor": 0,
  "metadata": {
    "colab": {
      "name": "aer1516_project_RSPP_MIP_gurobi_model.ipynb",
      "provenance": [],
      "collapsed_sections": []
    },
    "kernelspec": {
      "name": "python3",
      "display_name": "Python 3"
    },
    "language_info": {
      "name": "python"
    }
  },
  "cells": [
    {
      "cell_type": "markdown",
      "source": [
        "## **Appendix B - Reliable Shortest Path using Mixed-Integer Programming**\n",
        "\n",
        "**Course:** AER1516 - Motion Planning for Robotics\n",
        "\n",
        "**Due:** 22 April 2022\n",
        "\n",
        "**Team:** Vishal Kanna Annand, Andrew Constantinescu, Sugumar Prabhakaran"
      ],
      "metadata": {
        "id": "gpqWbauVGFr_"
      }
    },
    {
      "cell_type": "markdown",
      "source": [
        "### **Introduction**\n",
        "\n",
        "This code here is to implent a mixed integer program (MIP) or a mixed integer linear program (MILP) to solve the spatially dependent reliable shortest path problem.  Please see Section 4 of our paper for details on the implementation."
      ],
      "metadata": {
        "id": "P-gTrCv3HA9U"
      }
    },
    {
      "cell_type": "code",
      "execution_count": 1,
      "metadata": {
        "colab": {
          "base_uri": "https://localhost:8080/"
        },
        "id": "CA7lgiIDFidL",
        "outputId": "f406e718-401c-4125-e3ba-3f740ed75970"
      },
      "outputs": [
        {
          "output_type": "stream",
          "name": "stdout",
          "text": [
            "Collecting gurobipy\n",
            "  Downloading gurobipy-9.5.1-cp37-cp37m-manylinux2014_x86_64.whl (11.5 MB)\n",
            "\u001b[K     |████████████████████████████████| 11.5 MB 5.7 MB/s \n",
            "\u001b[?25hInstalling collected packages: gurobipy\n",
            "Successfully installed gurobipy-9.5.1\n"
          ]
        }
      ],
      "source": [
        "# import necessary modules\n",
        "import numpy as np \n",
        "import matplotlib.pyplot as plt\n",
        "import networkx as nx\n",
        "from scipy.stats import norm\n",
        "from math import sqrt\n",
        "\n",
        "# install gurobi industrial MIP solver\n",
        "!pip install gurobipy\n",
        "import gurobipy as gp"
      ]
    },
    {
      "cell_type": "code",
      "source": [
        "# ****INPUT YOUR OWN ACADEMIC LICENSE grbgetkey****\n",
        "\n",
        "# Create environment with WLS license\n",
        "e = gp.Env(empty=True)\n",
        "# e.setParam('WLSACCESSID', 'XXXXXXXX-XXXX-XXXX-XXXX-XXXXXXXXXXXXX')\n",
        "# e.setParam('WLSSECRET', 'XXXXXXXX-XXXX-XXXX-XXXX-XXXXXXXXXXXXX')\n",
        "# e.setParam('LICENSEID', XXXXXX)\n",
        "\n",
        "e.start()\n",
        "\n",
        "# Create the model within the Gurobi environment\n",
        "model = gp.Model(env=e)"
      ],
      "metadata": {
        "colab": {
          "base_uri": "https://localhost:8080/"
        },
        "id": "vJznJSATWqHz",
        "outputId": "fe9709d8-36bb-4a0f-8c24-be17ac7f9aa0"
      },
      "execution_count": 2,
      "outputs": [
        {
          "output_type": "stream",
          "name": "stdout",
          "text": [
            "Set parameter WLSAccessID\n",
            "Set parameter WLSSecret\n",
            "Set parameter LicenseID\n",
            "Academic license - for non-commercial use only - registered to s.prabhakaran@mail.utoronto.ca\n"
          ]
        }
      ]
    },
    {
      "cell_type": "markdown",
      "source": [
        "### **Mathematical Formulation**\n",
        "\n",
        "**User Defined Parameters**\n",
        "* $N$: set of nodes, with $N = \\{1, 2, ..., n\\}$\n",
        "* $A$: set of arcs, with $A = \\{a_{ij},...\\}$, where $a_{ij}$: link from node $i$ to node $j$\n",
        "* $T_{ij} = (t_{ij}, \\sigma_{ij})$:  the normal distribution (mean, std deviation) of travel time for link $a_{ij}$\n",
        "* $r, s$: start and end nodes respectively \n",
        "* $\\alpha$: User defined confidence level ($\\alpha> 0.5$: risk-averse, $\\alpha=0.5$: risk-neutral, $\\alpha < 0.5$: risk-seeking)\n",
        "\n",
        "**Decision Variables**\n",
        "* $x_{ij} \\in \\{0,1\\}$: binary decision variable signifying link-path incidence - i.e. if link is on path = 1\n",
        "* $y_{ab}$: binary decision variable that means link $a \\in A$ connects to link $b \\in A$\n",
        "\n",
        "**Objective Function**\n",
        "* $\\Phi^{-1}(\\alpha) = \\sum_{a_{ij} \\in A}t_{ij}\\cdot x_{ij} + z_{\\alpha}\\cdot \\sqrt{\\sum_{a_{ij} \\in A}(\\sigma_a)^2 \\cdot x_{ij} + 2\\cdot \\sum_{a_{ij} \\in A}\\sum_{b_{kl} \\in A}(\\sigma_{ab}\\cdot y_{ab})}$, where:\n",
        "* $\\Phi^{-1}(\\alpha)$: is the inverse cumulative density function (cdf) of the overall path travel time that we want to minimize as a function of $\\alpha$\n",
        "* $z_{\\alpha}$: Is the inverse cdf of a standard normal distribution at a $\\alpha$ confidence level\n",
        "* $(\\sigma_a)^2$: variance of link $a_{ij}$\n",
        "* $\\sigma_{ab} = $: covariance between link $a_{ij}$ and link $b_{kl}$\n"
      ],
      "metadata": {
        "id": "ZDAquopBIsQE"
      }
    },
    {
      "cell_type": "code",
      "source": [
        "# USER DEFINED PARAMETERS\n",
        "scenario = 2\n",
        "\n",
        "if scenario == 1:\n",
        "    n = 5               # number of nodes\n",
        "    r = 1               # start node\n",
        "    s = 5               # finish node\n",
        "\n",
        "    N = [i for i in range(1, n+1)]                      # Set of nodes\n",
        "    A = [(1,2), (1,3), (1,4), (2,3), (3,5), (4,5)]      # Set of arcs\n",
        "    A_w = [(1,2, 2), (1,3, 3), (1,4, 4), (2,3, 2), (3,5, 4), (4,5, 4)] # incl wts\n",
        "    t_ij = {(i,j):k for (i,j,k) in A_w}                 # dict of mean time for arc\n",
        "    idx = {(j,k):i for i, (j,k) in enumerate(A)}    # index needed for dict later\n",
        "\n",
        "    cov_matrix = np.array([[ 2.0, 0.0, 0.0, 0.0, 0.0, 0.0],\n",
        "                        [-1.0, 1.0, 0.0, 0.0, 0.0, 0.0],\n",
        "                        [-1.0,-0.5, 1.0, 0.0, 0.0, 0.0],\n",
        "                        [ 2.0,-1.0,-0.3, 2.0, 0.0, 0.0],\n",
        "                        [ 0.3, 1.5,-0.4, 2.0, 6.0, 0.0],\n",
        "                        [-0.2,-0.6, 0.5,-0.4,-1.5, 1.0]])\n",
        "    \n",
        "    positions = {1:[1,3], 2:[3,4], 3:[3,3], 4:[3,2], 5:[5,3]} #for visualization\n",
        "                   \n",
        "elif scenario == 2:\n",
        "    n = 14              # number of nodes\n",
        "    r = 1               # start node\n",
        "    s = 14              # finish node\n",
        "\n",
        "    N = [i for i in range(1, n+1)]                              # Set of nodes\n",
        "    A = [(1, 2), (1, 3), (1, 4), (2, 5), (2, 6), (3, 5), (3, 6),# Set of arcs\n",
        "         (3, 7), (4, 6), (4, 7), (5, 8), (6, 9), (7, 9), (8, 10), \n",
        "         (9, 11), (11, 10), (10, 12), (10, 13), (11, 13), (12, 14), (13, 14)]   \n",
        "    A_w = [(1, 2, 3), (1, 3, 1), (1, 4, 1), (2, 5, 2), (2, 6, 3), # incl wts\n",
        "           (3, 5, 2),(3, 6, 7), (3, 7, 1), (4, 6, 7), (4, 7, 3), (5, 8, 5), \n",
        "           (6, 9, 1), (7, 9, 6), (8, 10, 4), (9, 11, 2), (11, 10, 2),\n",
        "           (10, 12, 1), (10, 13, 2), (11, 13, 1),(12, 14, 1), (13, 14, 4)] \n",
        "    t_ij = {(i,j):k for (i,j,k) in A_w}                 # dict of mean time for arc\n",
        "    idx = {(j,k):i for i, (j,k) in enumerate(A)}    # index needed for dict later\n",
        "\n",
        "    cov_matrix = np.array([[  2,   0,   0,   0,   0,   0,   0,   0,   0,   0,   0,   0,    0,   0,   0,   0,   0,   0,   0,   0,   0],\n",
        "                           [  1, 0.1,   0,   0,   0,   0,   0,   0,   0,   0,   0,   0,    0,   0,   0,   0,   0,   0,   0,   0,   0],\n",
        "                           [  1,   2,   6,   0,   0,   0,   0,   0,   0,   0,   0,   0,    0,   0,   0,   0,   0,   0,   0,   0,   0],\n",
        "                           [  0,   0,   0, 0.5,   0,   0,   0,   0,   0,   0,   0,   0,    0,   0,   0,   0,   0,   0,   0,   0,   0],\n",
        "                           [  0,   0,   0,   0,   2,   0,   0,   0,   0,   0,   0,   0,    0,   0,   0,   0,   0,   0,   0,   0,   0],\n",
        "                           [  0,   0,   0,   0,   0, 0.2,   0,   0,   0,   0,   0,   0,    0,   0,   0,   0,   0,   0,   0,   0,   0],\n",
        "                           [  0,   0,   0,   0,   0,   0,   1,   0,   0,   0,   0,   0,    0,   0,   0,   0,   0,   0,   0,   0,   0],\n",
        "                           [  0,   0,   0,   0,   0,   0,   0, 0.1,   0,   0,   0,   0,    0,   0,   0,   0,   0,   0,   0,   0,   0],\n",
        "                           [  2,   2,   2,   2,   2,   2,   2,   2,   9,   0,   0,   0,    0,   0,   0,   0,   0,   0,   0,   0,   0],\n",
        "                           [  0,   0,   0,   0,   0,   0,   0,   0,   0,   1,   0,   0,    0,   0,   0,   0,   0,   0,   0,   0,   0],\n",
        "                           [  9,   9,   9,   9,   9,   9,   9,   9,   9,   9,   2,   0,    0,   0,   0,   0,   0,   0,   0,   0,   0],\n",
        "                           [  0,   0,   0,   0,   0,   0,   0,   0,   0,   0,   0,   3,    0,   0,   0,   0,   0,   0,   0,   0,   0],\n",
        "                           [  0,   0,   0,   0,   0,   0,   0,   0,   0,   0,   0,   0,  0.7,   0,   0,   0,   0,   0,   0,   0,   0],\n",
        "                           [  0,   0,   0,   0,   0,   0,   0,   0,   0,   0,   0,   0,    0,   1,   0,   0,   0,   0,   0,   0,   0],\n",
        "                           [  0,   0,   0,   0,   0,   0,   0,   0,   0,   0,   0,   0,    0,   0,   2,   0,   0,   0,   0,   0,   0],\n",
        "                           [  0,   0,   0,   0,   0,   0,   0,   0,   0,   0,   0,   0,    0,   0,   0,   1,   0,   0,   0,   0,   0],\n",
        "                           [  0,   0,   0,   0,   0,   0,   0,   0,   0,   0,   0,   0,    0,   0,   0,   0,   1,   0,   0,   0,   0],\n",
        "                           [  0,   0,   0,   0,   0,   0,   0,   0,   0,   0,   0,   0,    0,   0,   0,   0,   0, 0.5,   0,   0,   0],\n",
        "                           [  0,   0,   0,   0,   0,   0,   0,   0,   0,   0,   0,   0,    0,   0,   0,   0,   0,   0, 0.2,   0,   0],\n",
        "                           [  0,   0,   0,   0,   0,   0,   0,   0,   0,   0,   0,   0,    0,   0,   0,   0,   0,   0,   0,   1,   0],\n",
        "                           [  0,   0,   0,   0,   0,   0,   0,   0,   0,   0,   0,   0,    0,   0,   0,   0,   0,   0,   0,   0, 0.1]])\n",
        "\n",
        "    positions = {1:[1,3], 2:[3,4], 3:[3,3], 4:[3,2],    # for visualization\n",
        "                 5:[5,4], 6:[6,3], 7:[5,2], 8:[7,3.5], 9:[7,2.5], \n",
        "                 10:[10, 3.5], 11:[8.5,2.5], 12:[12, 3.5], 13:[11,2.5],\n",
        "                 14:[14, 3]}   \n"
      ],
      "metadata": {
        "id": "nK5lYHLQLObE"
      },
      "execution_count": 3,
      "outputs": []
    },
    {
      "cell_type": "code",
      "source": [
        "# VISUALIZE DIRECTED GRAPH\n",
        "\n",
        "# create graph object and add nodes and edges with weights\n",
        "plt.figure(figsize=(12,4))\n",
        "G = nx.DiGraph()                \n",
        "G.add_nodes_from(N)\n",
        "G.add_weighted_edges_from(A_w)\n",
        "\n",
        "# draw network\n",
        "nx.draw_networkx(G, positions, with_labels=True)\n",
        "nx.draw_networkx_edge_labels(G, pos=positions, edge_labels=t_ij)\n",
        "plt.savefig('primal_network.png', dpi=600)\n",
        "plt.show()"
      ],
      "metadata": {
        "colab": {
          "base_uri": "https://localhost:8080/",
          "height": 248
        },
        "id": "YZrgZ7SIs0CQ",
        "outputId": "ae36e81c-40d5-4672-bf0b-133d26609441"
      },
      "execution_count": 4,
      "outputs": [
        {
          "output_type": "display_data",
          "data": {
            "text/plain": [
              "<Figure size 864x288 with 1 Axes>"
            ],
            "image/png": "[encoded data removed]"
          },
          "metadata": {}
        }
      ]
    },
    {
      "cell_type": "code",
      "source": [
        "# INITIALIZE GUROBI MIP MODEL\n",
        "model = gp.Model(\"reliable_shortest_path\")\n",
        "model.setParam('TimeLimit', 60) # seconds\n",
        "model.Params.LogToConsole = 0   # suppress outputs"
      ],
      "metadata": {
        "colab": {
          "base_uri": "https://localhost:8080/"
        },
        "id": "gmh3rv8RKbNK",
        "outputId": "1764685b-7ee9-471e-f64f-38802cb17440"
      },
      "execution_count": 50,
      "outputs": [
        {
          "output_type": "stream",
          "name": "stdout",
          "text": [
            "Set parameter TimeLimit to value 60\n"
          ]
        }
      ]
    },
    {
      "cell_type": "code",
      "source": [
        "def optimize_model(alpha, N, A, r, s, t_ij, idx, cov_matrix):\n",
        "    '''\n",
        "    FUNCTION: given a network graph (N, A) problem and alpha confidence level, \n",
        "    construct a mixed-integer programming model in gurobi and return the most\n",
        "    reliable path and the objective function value (inverse cdf of the path \n",
        "    travel-time)\n",
        "\n",
        "    INPUTS:\n",
        "    alpha (float)       - confidence between [0, 1], where: 0.5 is risk-neutral, \n",
        "                          <0.5 is risk-seeking and >0.5 is risk-averse\n",
        "    N (list)            - list of nodes\n",
        "    A (list)            - list of links (Ex. a_ij is link from node i to j)\n",
        "    r (int)             - start node\n",
        "    s (int)             - goal node\n",
        "    t_ij (dict)         - dict of mean travel-time for each link a_ij\n",
        "    idx (dict)          - dict of covariance matrix index for each link a_ij\n",
        "    cov_matrix (array)  - numpy array containing var, covariance of all links\n",
        "                          \n",
        "    OUTPUTS:\n",
        "    opt_reliable_path (list) - sequence of links from start node to goal node\n",
        "    obj_val (float)          - objective function value\n",
        "    '''\n",
        "\n",
        "    z = norm.ppf(alpha) # inv. cdf of std norm. distr at alpha confidence\n",
        "\n",
        "    # DECISION VARIABLES\n",
        "    x = model.addVars(A, vtype=gp.GRB.BINARY)   # link-path incidence variables\n",
        "\n",
        "    # additional variables to linearize objective function\n",
        "    var = model.addVar(name='var')\n",
        "    covariance = model.addVar(name='covariance')\n",
        "    path_var = model.addVar(name='path_var')\n",
        "    path_std = model.addVar(name='path_std')\n",
        "\n",
        "    # CONSTRAINTS\n",
        "    #enforce one-way direction of links from node i to node j for all links\n",
        "    model.addConstrs(gp.quicksum(x[i,j] for j in G.successors(i))-\n",
        "                    gp.quicksum(x[k,i] for k in G.predecessors(i)) == 1 \n",
        "                    for i in N if i == r)\n",
        "    model.addConstrs(gp.quicksum(x[i,j] for j in G.successors(i))-\n",
        "                    gp.quicksum(x[k,i] for k in G.predecessors(i)) == 0 \n",
        "                    for i in N if (i != r and i != s))\n",
        "    model.addConstrs(gp.quicksum(x[i,j] for j in G.successors(i))-\n",
        "                    gp.quicksum(x[k,i] for k in G.predecessors(i)) == -1 \n",
        "                    for i in N if i == s)\n",
        "\n",
        "    # OBJECTIVE FUNCTION\n",
        "    # objective function:  path mean + z*sqrt(var + covar)\n",
        "    path_mean = gp.quicksum(t_ij[a]*x[a] for a in A)\n",
        "    var = gp.quicksum(cov_matrix[idx[a],idx[a]]*x[a] for a in A)\n",
        "    covariance = gp.quicksum(cov_matrix[idx[a], idx[b]]*x[a]*x[b] \n",
        "                        for a in A for b in A if a !=b)\n",
        "\n",
        "    #linearize sqrt in objective function\n",
        "    model.addConstr(path_var == var + 2*covariance)\n",
        "    model.addGenConstrPow(path_var, path_std, 0.5)  # path_std = sqrt(path_var)\n",
        "\n",
        "    model.modelSense = gp.GRB.MINIMIZE              # minimization\n",
        "    model.setObjective(path_mean+z*path_std)        # objective function\n",
        "    model.optimize()                                # execute\n",
        "\n",
        "    # RESULTS\n",
        "    opt_reliable_path = []                    # initialize list to store path\n",
        "\n",
        "    # iterate through each link that is on the path\n",
        "    for a in A:\n",
        "        if x[a].x != 0:\n",
        "            opt_reliable_path.append(a)       # store link in optimal path list\n",
        "    \n",
        "    obj_val = model.getObjective().getValue() # optimal obj. function value\n",
        "\n",
        "    return opt_reliable_path, obj_val"
      ],
      "metadata": {
        "id": "gcp45QrOWyKf"
      },
      "execution_count": 51,
      "outputs": []
    },
    {
      "cell_type": "code",
      "source": [
        "# OUTPUT RESULTS\n",
        "\n",
        "for alpha in list(np.around(np.linspace(0.05, 0.95, 19), 2)):\n",
        "\n",
        "    opt_path, obj_val = optimize_model(alpha, N, A, r, s, t_ij, idx, cov_matrix)\n",
        "    print(\"alpha =\", alpha, \":\", opt_path, obj_val)"
      ],
      "metadata": {
        "colab": {
          "base_uri": "https://localhost:8080/"
        },
        "id": "HH_rcFPXOkvt",
        "outputId": "e0946567-bda8-4e0e-dcf8-5a9c14a08358"
      },
      "execution_count": 52,
      "outputs": [
        {
          "output_type": "stream",
          "name": "stdout",
          "text": [
            "Academic license - for non-commercial use only - registered to s.prabhakaran@mail.utoronto.ca\n",
            "alpha = 0.05 : [(1, 3), (3, 5), (5, 8), (8, 10), (10, 12), (12, 14)] 3.4293457739598416\n",
            "Academic license - for non-commercial use only - registered to s.prabhakaran@mail.utoronto.ca\n",
            "alpha = 0.1 : [(1, 3), (3, 5), (5, 8), (8, 10), (10, 12), (12, 14)] 5.764103276693852\n",
            "Academic license - for non-commercial use only - registered to s.prabhakaran@mail.utoronto.ca\n",
            "alpha = 0.15 : [(1, 3), (3, 5), (5, 8), (8, 10), (10, 12), (12, 14)] 7.33935375184258\n",
            "Academic license - for non-commercial use only - registered to s.prabhakaran@mail.utoronto.ca\n",
            "alpha = 0.2 : [(1, 3), (3, 5), (5, 8), (8, 10), (10, 12), (12, 14)] 8.59131737703282\n",
            "Academic license - for non-commercial use only - registered to s.prabhakaran@mail.utoronto.ca\n",
            "alpha = 0.25 : [(1, 3), (3, 5), (5, 8), (8, 10), (10, 12), (12, 14)] 9.665388773319261\n",
            "Academic license - for non-commercial use only - registered to s.prabhakaran@mail.utoronto.ca\n",
            "alpha = 0.3 : [(1, 3), (3, 5), (5, 8), (8, 10), (10, 12), (12, 14)] 10.629937293612812\n",
            "Academic license - for non-commercial use only - registered to s.prabhakaran@mail.utoronto.ca\n",
            "alpha = 0.35 : [(1, 3), (3, 5), (5, 8), (8, 10), (10, 12), (12, 14)] 11.523735161376415\n",
            "Academic license - for non-commercial use only - registered to s.prabhakaran@mail.utoronto.ca\n",
            "alpha = 0.4 : [(1, 2), (2, 6), (6, 9), (9, 11), (11, 10), (10, 12), (12, 14)] 12.122381197268936\n",
            "Academic license - for non-commercial use only - registered to s.prabhakaran@mail.utoronto.ca\n",
            "alpha = 0.45 : [(1, 2), (2, 6), (6, 9), (9, 11), (11, 10), (10, 12), (12, 14)] 12.564697919287504\n",
            "Academic license - for non-commercial use only - registered to s.prabhakaran@mail.utoronto.ca\n",
            "alpha = 0.5 : [(1, 2), (2, 6), (6, 9), (9, 11), (11, 10), (10, 12), (12, 14)] 13.0\n",
            "Academic license - for non-commercial use only - registered to s.prabhakaran@mail.utoronto.ca\n",
            "alpha = 0.55 : [(1, 2), (2, 6), (6, 9), (9, 11), (11, 10), (10, 12), (12, 14)] 13.435303379793742\n",
            "Academic license - for non-commercial use only - registered to s.prabhakaran@mail.utoronto.ca\n",
            "alpha = 0.6 : [(1, 2), (2, 6), (6, 9), (9, 11), (11, 10), (10, 12), (12, 14)] 13.877279241737092\n",
            "Academic license - for non-commercial use only - registered to s.prabhakaran@mail.utoronto.ca\n",
            "alpha = 0.65 : [(1, 2), (2, 6), (6, 9), (9, 11), (11, 10), (10, 12), (12, 14)] 14.334256856195786\n",
            "Academic license - for non-commercial use only - registered to s.prabhakaran@mail.utoronto.ca\n",
            "alpha = 0.7 : [(1, 2), (2, 6), (6, 9), (9, 11), (11, 10), (10, 12), (12, 14)] 14.816316043699084\n",
            "Academic license - for non-commercial use only - registered to s.prabhakaran@mail.utoronto.ca\n",
            "alpha = 0.75 : [(1, 2), (2, 6), (6, 9), (9, 11), (11, 10), (10, 12), (12, 14)] 15.335909758550127\n",
            "Academic license - for non-commercial use only - registered to s.prabhakaran@mail.utoronto.ca\n",
            "alpha = 0.8 : [(1, 2), (2, 6), (6, 9), (9, 11), (11, 10), (10, 12), (12, 14)] 15.914047528069045\n",
            "Academic license - for non-commercial use only - registered to s.prabhakaran@mail.utoronto.ca\n",
            "alpha = 0.85 : [(1, 3), (3, 7), (7, 9), (9, 11), (11, 10), (10, 12), (12, 14)] 16.512173832068996\n",
            "Academic license - for non-commercial use only - registered to s.prabhakaran@mail.utoronto.ca\n",
            "alpha = 0.9 : [(1, 3), (3, 7), (7, 9), (9, 11), (11, 10), (10, 12), (12, 14)] 17.10548405103496\n",
            "Academic license - for non-commercial use only - registered to s.prabhakaran@mail.utoronto.ca\n",
            "alpha = 0.95 : [(1, 3), (3, 7), (7, 9), (9, 11), (11, 13), (13, 14)] 17.932699349184162\n"
          ]
        }
      ]
    }
  ]
}